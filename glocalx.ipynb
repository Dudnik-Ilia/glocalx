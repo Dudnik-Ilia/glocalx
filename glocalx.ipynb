{
 "cells": [
  {
   "cell_type": "markdown",
   "metadata": {},
   "source": [
    "Testing "
   ]
  },
  {
   "cell_type": "code",
   "execution_count": 2,
   "metadata": {},
   "outputs": [],
   "source": [
    "import numpy as np\n",
    "import logzero\n",
    "import pickle\n",
    "\n",
    "from glocalx import GLocalX, shut_up_tensorflow\n",
    "from rule_loaders.lore_to_glocalx import lore_to_glocalx\n",
    "\n",
    "from lore_explainer.datamanager import prepare_adult_dataset, prepare_dataset\n",
    "\n",
    "# Set log profile: INFO for normal logging, DEBUG for verbosity\n",
    "logzero.loglevel(logzero.logging.DEBUG)\n",
    "shut_up_tensorflow()\n",
    "\n",
    "# Load black box: optional! Use black_box = None to use the dataset labels\n",
    "model_file = \"RandomForestClassifier_for_adult\"\n",
    "# Load the model\n",
    "with open(f\"data/models/{model_file}.pkl\", 'rb') as model_file:\n",
    "    black_box = pickle.load(model_file)"
   ]
  },
  {
   "cell_type": "code",
   "execution_count": 29,
   "metadata": {},
   "outputs": [],
   "source": [
    "# Load data and header\n",
    "\n",
    "# data = np.genfromtxt('data/dummy/dummy_dataset.csv', delimiter=',', names=True)\n",
    "# features_names = data.dtype.names\n",
    "\n",
    "data_filename = 'adult'\n",
    "# Prepare data\n",
    "if data_filename == \"adult\":\n",
    "    df, class_name = prepare_adult_dataset(f'data/{data_filename}.csv')\n",
    "else:\n",
    "    raise NotImplementedError\n",
    "df, feature_names, *_ = prepare_dataset(\n",
    "    df, class_name)"
   ]
  },
  {
   "cell_type": "code",
   "execution_count": 36,
   "metadata": {},
   "outputs": [
    {
     "data": {
      "text/plain": [
       "array([[   39,  2174,     0, ...,     0,     0,     0],\n",
       "       [   50,     0,     0, ...,     0,     0,     0],\n",
       "       [   38,     0,     0, ...,     0,     0,     0],\n",
       "       ...,\n",
       "       [   58,     0,     0, ...,     0,     0,     0],\n",
       "       [   22,     0,     0, ...,     0,     0,     0],\n",
       "       [   52, 15024,     0, ...,     0,     0,     1]])"
      ]
     },
     "execution_count": 36,
     "metadata": {},
     "output_type": "execute_result"
    }
   ],
   "source": [
    "data = df.to_numpy()\n",
    "data = [list(sample) for sample in data]\n",
    "data = np.array(data)\n",
    "data"
   ]
  },
  {
   "cell_type": "code",
   "execution_count": 37,
   "metadata": {},
   "outputs": [
    {
     "name": "stdout",
     "output_type": "stream",
     "text": [
      "[{26: (-inf, 0.5), 27: (0.5, inf), 3: (-inf, 39.0)}-> 0, {1: (-inf, 5591.656005859375), 57: (0.5, inf), 3: (-inf, 48.5)}-> 0, {3: (-inf, 30.0), 35: (-inf, 0.5)}-> 0, {60: (-inf, 0.5), 53: (-inf, 0.5), 32: (-inf, 0.5), 0: (22.5, inf), 21: (-inf, 0.5), 1: (-inf, 5190.6376953125)}-> 0, {1: (-inf, 3844.0), 59: (0.5, inf)}-> 0, {1: (-inf, 4804.0)}-> 0, {32: (-inf, 0.5), 37: (-inf, 0.5)}-> 1, {1: (-inf, 12111.0), 32: (0.5, inf)}-> 0, {60: (-inf, 0.5), 27: (-inf, 0.5), 21: (-inf, 0.5), 59: (0.5, inf)}-> 0, {0: (-inf, 40.38766098022461), 38: (0.5, inf), 17: (-inf, 0.5)}-> 0, {1: (-inf, 5381.0), 16: (0.5, inf)}-> 0, {32: (-inf, 0.5), 3: (-inf, 38.5), 49: (-inf, 0.5), 27: (-inf, 0.5)}-> 1, {5: (-inf, 0.5), 0: (-inf, 41.5), 1: (-inf, 5819.0), 27: (-inf, 0.5)}-> 0, {50: (-inf, 0.5), 3: (37.5, 41.0), 0: (-inf, 34.5), 40: (-inf, 0.5)}-> 1, {3: (-inf, 39.5)}-> 0, {1: (-inf, 6625.64453125), 21: (-inf, 0.5), 54: (-inf, 0.5)}-> 0, {1: (-inf, 9228.0), 60: (0.5, inf)}-> 0, {1: (-inf, 3662.5), 38: (-inf, 0.5), 54: (-inf, 0.5), 4: (-inf, 0.5)}-> 0, {2: (1926.5, inf), 28: (-inf, 0.5)}-> 1, {3: (47.5, 52.5), 0: (38.5, inf)}-> 1, {1: (-inf, 3424.0), 23: (0.5, inf), 24: (-inf, 0.5)}-> 0, {2: (1789.5, inf), 3: (34.0, inf)}-> 1, {1: (-inf, 6137.58544921875), 53: (0.5, inf)}-> 0, {23: (-inf, 0.5), 0: (28.5, inf), 52: (-inf, 0.5), 42: (-inf, 0.5)}-> 1, {3: (-inf, 44.0), 0: (-inf, 53.5), 2: (-inf, 957.5)}-> 0, {1: (-inf, 3844.0), 28: (0.5, inf)}-> 0, {51: (0.5, inf)}-> 0, {1: (-inf, 3844.0), 20: (-inf, 0.5)}-> 0, {1: (-inf, 3364.867919921875), 9: (-inf, 0.5)}-> 0, {1: (-inf, 6155.5), 27: (0.5, inf)}-> 0]\n"
     ]
    }
   ],
   "source": [
    "# Load local explanations\n",
    "lore_rules_file = \"lore_rules_adult_30\"\n",
    "info_file = \"adult_info\"\n",
    "glocal_rules = lore_to_glocalx(f\"data/lore_rules/{lore_rules_file}.pkl\", f\"data/info_files/{info_file}.json\")\n",
    "print(glocal_rules)"
   ]
  },
  {
   "cell_type": "code",
   "execution_count": 40,
   "metadata": {},
   "outputs": [
    {
     "name": "stderr",
     "output_type": "stream",
     "text": [
      "[D 240713 16:16:56 glocalx:376] black_box_explanations | ************************ Iteration 1 with num of theories: 30\n",
      "[D 240713 16:16:56 glocalx:382] Computing distances\n",
      "[D 240713 16:16:56 glocalx:388] black_box_explanations|  sorting candidates queue\n",
      "[D 240713 16:16:56 glocalx:401] black_box_explanations creating fine boundary\n",
      "[D 240713 16:16:56 glocalx:415] black_box_explanations merged candidate 0\n",
      "[D 240713 16:16:56 evaluators:220] Log likelihood: 0.7830840576149382 | Complexity: 0.019417475728155338\n",
      "[D 240713 16:16:56 glocalx:425] black_box_explanations Merged candidate\n",
      "[D 240713 16:16:56 glocalx:376] black_box_explanations | ************************ Iteration 2 with num of theories: 29\n",
      "[D 240713 16:16:56 glocalx:382] Computing distances\n",
      "[D 240713 16:16:56 glocalx:388] black_box_explanations|  sorting candidates queue\n",
      "[D 240713 16:16:56 glocalx:401] black_box_explanations creating fine boundary\n",
      "[D 240713 16:16:56 glocalx:415] black_box_explanations merged candidate 0\n",
      "[D 240713 16:16:56 evaluators:220] Log likelihood: 0.7702773256349621 | Complexity: 0.014563106796116504\n",
      "[D 240713 16:16:56 glocalx:425] black_box_explanations Merged candidate\n",
      "[D 240713 16:16:56 glocalx:376] black_box_explanations | ************************ Iteration 3 with num of theories: 28\n",
      "[D 240713 16:16:56 glocalx:382] Computing distances\n",
      "[D 240713 16:16:56 glocalx:388] black_box_explanations|  sorting candidates queue\n",
      "[D 240713 16:16:56 glocalx:401] black_box_explanations creating fine boundary\n"
     ]
    },
    {
     "ename": "ValueError",
     "evalue": "Input vector should be 1-D.",
     "output_type": "error",
     "traceback": [
      "\u001b[1;31m---------------------------------------------------------------------------\u001b[0m",
      "\u001b[1;31mValueError\u001b[0m                                Traceback (most recent call last)",
      "Cell \u001b[1;32mIn[40], line 4\u001b[0m\n\u001b[0;32m      2\u001b[0m glocalx \u001b[38;5;241m=\u001b[39m GLocalX(model_ai\u001b[38;5;241m=\u001b[39mblack_box)\n\u001b[0;32m      3\u001b[0m \u001b[38;5;66;03m# Fit the model, use batch_size=128 for larger datasets\u001b[39;00m\n\u001b[1;32m----> 4\u001b[0m glocalx \u001b[38;5;241m=\u001b[39m \u001b[43mglocalx\u001b[49m\u001b[38;5;241;43m.\u001b[39;49m\u001b[43mfit\u001b[49m\u001b[43m(\u001b[49m\u001b[43mglocal_rules\u001b[49m\u001b[43m,\u001b[49m\u001b[43m \u001b[49m\u001b[43mdata\u001b[49m\u001b[43m,\u001b[49m\u001b[43m \u001b[49m\u001b[43mbatch_size\u001b[49m\u001b[38;5;241;43m=\u001b[39;49m\u001b[38;5;241;43m2\u001b[39;49m\u001b[43m,\u001b[49m\u001b[43m \u001b[49m\u001b[43mname\u001b[49m\u001b[38;5;241;43m=\u001b[39;49m\u001b[38;5;124;43m'\u001b[39;49m\u001b[38;5;124;43mblack_box_explanations\u001b[39;49m\u001b[38;5;124;43m'\u001b[39;49m\u001b[43m)\u001b[49m\n\u001b[0;32m      6\u001b[0m \u001b[38;5;66;03m# Retrieve global explanations by fidelity\u001b[39;00m\n\u001b[0;32m      7\u001b[0m alpha \u001b[38;5;241m=\u001b[39m \u001b[38;5;241m0.5\u001b[39m\n",
      "File \u001b[1;32mc:\\Users\\dudni\\VS_Code_Projects\\glocalx\\glocalx\\glocalx.py:412\u001b[0m, in \u001b[0;36mGLocalX.fit\u001b[1;34m(self, rules, train_set, batch_size, global_direction, intersecting, strict_join, strict_cut, fidelity_weight, complexity_weight, callbacks, callback_step, name, pickle_this)\u001b[0m\n\u001b[0;32m    409\u001b[0m A, B \u001b[38;5;241m=\u001b[39m \u001b[38;5;28mself\u001b[39m\u001b[38;5;241m.\u001b[39mboundary[i], \u001b[38;5;28mself\u001b[39m\u001b[38;5;241m.\u001b[39mboundary[j]\n\u001b[0;32m    410\u001b[0m AB_union \u001b[38;5;241m=\u001b[39m A \u001b[38;5;241m|\u001b[39m B \u001b[38;5;66;03m# Simple union of sets\u001b[39;00m\n\u001b[1;32m--> 412\u001b[0m AB_merge \u001b[38;5;241m=\u001b[39m \u001b[38;5;28;43mself\u001b[39;49m\u001b[38;5;241;43m.\u001b[39;49m\u001b[43mmerge\u001b[49m\u001b[43m(\u001b[49m\u001b[43mA\u001b[49m\u001b[43m,\u001b[49m\u001b[43m \u001b[49m\u001b[43mB\u001b[49m\u001b[43m,\u001b[49m\u001b[43m \u001b[49m\u001b[43mx\u001b[49m\u001b[43m,\u001b[49m\u001b[43m \u001b[49m\u001b[43my\u001b[49m\u001b[43m,\u001b[49m\u001b[43m \u001b[49m\u001b[43mids\u001b[49m\u001b[38;5;241;43m=\u001b[39;49m\u001b[43mbatch_ids\u001b[49m\u001b[43m,\u001b[49m\u001b[43m \u001b[49m\u001b[43mintersecting\u001b[49m\u001b[38;5;241;43m=\u001b[39;49m\u001b[43mintersecting\u001b[49m\u001b[43m,\u001b[49m\n\u001b[0;32m    413\u001b[0m \u001b[43m                      \u001b[49m\u001b[43mstrict_cut\u001b[49m\u001b[38;5;241;43m=\u001b[39;49m\u001b[43mstrict_cut\u001b[49m\u001b[43m,\u001b[49m\u001b[43m \u001b[49m\u001b[43mstrict_join\u001b[49m\u001b[38;5;241;43m=\u001b[39;49m\u001b[43mstrict_join\u001b[49m\u001b[43m)\u001b[49m\n\u001b[0;32m    415\u001b[0m logger\u001b[38;5;241m.\u001b[39mdebug(full_name \u001b[38;5;241m+\u001b[39m \u001b[38;5;124m'\u001b[39m\u001b[38;5;124m merged candidate \u001b[39m\u001b[38;5;124m'\u001b[39m \u001b[38;5;241m+\u001b[39m \u001b[38;5;28mstr\u001b[39m(rejections_of_merges))\n\u001b[0;32m    417\u001b[0m \u001b[38;5;66;03m# All other theories except A and B\u001b[39;00m\n",
      "File \u001b[1;32mc:\\Users\\dudni\\VS_Code_Projects\\glocalx\\glocalx\\glocalx.py:311\u001b[0m, in \u001b[0;36mGLocalX.merge\u001b[1;34m(self, A, B, x, y, ids, intersecting, strict_join, strict_cut)\u001b[0m\n\u001b[0;32m    309\u001b[0m cut_rules \u001b[38;5;241m=\u001b[39m \u001b[38;5;28mself\u001b[39m\u001b[38;5;241m.\u001b[39m_cut(conflicting_group, x, y, strict_cut)\n\u001b[0;32m    310\u001b[0m \u001b[38;5;66;03m# Join the non-conflicting\u001b[39;00m\n\u001b[1;32m--> 311\u001b[0m joined_rules \u001b[38;5;241m=\u001b[39m \u001b[38;5;28;43mself\u001b[39;49m\u001b[38;5;241;43m.\u001b[39;49m\u001b[43m_join\u001b[49m\u001b[43m(\u001b[49m\u001b[43mnon_conflicting_group\u001b[49m\u001b[43m,\u001b[49m\u001b[43m \u001b[49m\u001b[43mx\u001b[49m\u001b[43m,\u001b[49m\u001b[43m \u001b[49m\u001b[43my\u001b[49m\u001b[43m,\u001b[49m\u001b[43m \u001b[49m\u001b[43mstrict_join\u001b[49m\u001b[43m)\u001b[49m\n\u001b[0;32m    312\u001b[0m \u001b[38;5;66;03m# Add them to the Merged rules\u001b[39;00m\n\u001b[0;32m    313\u001b[0m AB \u001b[38;5;241m|\u001b[39m\u001b[38;5;241m=\u001b[39m joined_rules\n",
      "File \u001b[1;32mc:\\Users\\dudni\\VS_Code_Projects\\glocalx\\glocalx\\glocalx.py:251\u001b[0m, in \u001b[0;36mGLocalX._join\u001b[1;34m(self, rules, x, y, strict_join)\u001b[0m\n\u001b[0;32m    249\u001b[0m default \u001b[38;5;241m=\u001b[39m \u001b[38;5;28mint\u001b[39m(y\u001b[38;5;241m.\u001b[39mmean()\u001b[38;5;241m.\u001b[39mround())\n\u001b[0;32m    250\u001b[0m \u001b[38;5;66;03m# ids set to None to measure global fidelity_weight\u001b[39;00m\n\u001b[1;32m--> 251\u001b[0m fidelities \u001b[38;5;241m=\u001b[39m np\u001b[38;5;241m.\u001b[39marray(\u001b[43m[\u001b[49m\u001b[38;5;28;43mself\u001b[39;49m\u001b[38;5;241;43m.\u001b[39;49m\u001b[43mevaluator\u001b[49m\u001b[38;5;241;43m.\u001b[39;49m\u001b[43mbinary_fidelity\u001b[49m\u001b[43m(\u001b[49m\u001b[43mr\u001b[49m\u001b[43m,\u001b[49m\u001b[43m \u001b[49m\u001b[43mx\u001b[49m\u001b[43m,\u001b[49m\u001b[43m \u001b[49m\u001b[43my\u001b[49m\u001b[43m,\u001b[49m\u001b[43m \u001b[49m\u001b[43mdefault\u001b[49m\u001b[38;5;241;43m=\u001b[39;49m\u001b[43mdefault\u001b[49m\u001b[43m,\u001b[49m\u001b[43m \u001b[49m\u001b[43mids\u001b[49m\u001b[38;5;241;43m=\u001b[39;49m\u001b[38;5;28;43;01mNone\u001b[39;49;00m\u001b[43m)\u001b[49m\u001b[43m \u001b[49m\u001b[38;5;28;43;01mfor\u001b[39;49;00m\u001b[43m \u001b[49m\u001b[43mr\u001b[49m\u001b[43m \u001b[49m\u001b[38;5;129;43;01min\u001b[39;49;00m\u001b[43m \u001b[49m\u001b[43mrules_list\u001b[49m\u001b[43m]\u001b[49m)\n\u001b[0;32m    252\u001b[0m best_rule \u001b[38;5;241m=\u001b[39m rules_list[np\u001b[38;5;241m.\u001b[39margmax(fidelities)\u001b[38;5;241m.\u001b[39mitem(\u001b[38;5;241m0\u001b[39m)]\n\u001b[0;32m    254\u001b[0m \u001b[38;5;66;03m# Features shared by all\u001b[39;00m\n",
      "File \u001b[1;32mc:\\Users\\dudni\\VS_Code_Projects\\glocalx\\glocalx\\glocalx.py:251\u001b[0m, in \u001b[0;36m<listcomp>\u001b[1;34m(.0)\u001b[0m\n\u001b[0;32m    249\u001b[0m default \u001b[38;5;241m=\u001b[39m \u001b[38;5;28mint\u001b[39m(y\u001b[38;5;241m.\u001b[39mmean()\u001b[38;5;241m.\u001b[39mround())\n\u001b[0;32m    250\u001b[0m \u001b[38;5;66;03m# ids set to None to measure global fidelity_weight\u001b[39;00m\n\u001b[1;32m--> 251\u001b[0m fidelities \u001b[38;5;241m=\u001b[39m np\u001b[38;5;241m.\u001b[39marray([\u001b[38;5;28;43mself\u001b[39;49m\u001b[38;5;241;43m.\u001b[39;49m\u001b[43mevaluator\u001b[49m\u001b[38;5;241;43m.\u001b[39;49m\u001b[43mbinary_fidelity\u001b[49m\u001b[43m(\u001b[49m\u001b[43mr\u001b[49m\u001b[43m,\u001b[49m\u001b[43m \u001b[49m\u001b[43mx\u001b[49m\u001b[43m,\u001b[49m\u001b[43m \u001b[49m\u001b[43my\u001b[49m\u001b[43m,\u001b[49m\u001b[43m \u001b[49m\u001b[43mdefault\u001b[49m\u001b[38;5;241;43m=\u001b[39;49m\u001b[43mdefault\u001b[49m\u001b[43m,\u001b[49m\u001b[43m \u001b[49m\u001b[43mids\u001b[49m\u001b[38;5;241;43m=\u001b[39;49m\u001b[38;5;28;43;01mNone\u001b[39;49;00m\u001b[43m)\u001b[49m \u001b[38;5;28;01mfor\u001b[39;00m r \u001b[38;5;129;01min\u001b[39;00m rules_list])\n\u001b[0;32m    252\u001b[0m best_rule \u001b[38;5;241m=\u001b[39m rules_list[np\u001b[38;5;241m.\u001b[39margmax(fidelities)\u001b[38;5;241m.\u001b[39mitem(\u001b[38;5;241m0\u001b[39m)]\n\u001b[0;32m    254\u001b[0m \u001b[38;5;66;03m# Features shared by all\u001b[39;00m\n",
      "File \u001b[1;32mc:\\Users\\dudni\\VS_Code_Projects\\glocalx\\glocalx\\evaluators.py:128\u001b[0m, in \u001b[0;36mMemEvaluator.binary_fidelity\u001b[1;34m(self, unit, x, y, default, ids)\u001b[0m\n\u001b[0;32m    125\u001b[0m     y \u001b[38;5;241m=\u001b[39m \u001b[38;5;28mself\u001b[39m\u001b[38;5;241m.\u001b[39moracle\u001b[38;5;241m.\u001b[39mpredict(x)\u001b[38;5;241m.\u001b[39mround()\u001b[38;5;241m.\u001b[39msqueeze()\n\u001b[0;32m    127\u001b[0m \u001b[38;5;28;01mif\u001b[39;00m ids \u001b[38;5;129;01mis\u001b[39;00m \u001b[38;5;28;01mNone\u001b[39;00m:\n\u001b[1;32m--> 128\u001b[0m     \u001b[38;5;28mself\u001b[39m\u001b[38;5;241m.\u001b[39mbinary_fidelities[unit] \u001b[38;5;241m=\u001b[39m \u001b[38;5;28mself\u001b[39m\u001b[38;5;241m.\u001b[39mbinary_fidelities\u001b[38;5;241m.\u001b[39mget(unit, \u001b[43mbinary_fidelity\u001b[49m\u001b[43m(\u001b[49m\u001b[43munit\u001b[49m\u001b[43m,\u001b[49m\u001b[43m \u001b[49m\u001b[43mx\u001b[49m\u001b[43m,\u001b[49m\u001b[43m \u001b[49m\u001b[43my\u001b[49m\u001b[43m,\u001b[49m\u001b[43m \u001b[49m\u001b[38;5;28;43mself\u001b[39;49m\u001b[43m,\u001b[49m\n\u001b[0;32m    129\u001b[0m \u001b[43m                                                                                    \u001b[49m\u001b[43mdefault\u001b[49m\u001b[38;5;241;43m=\u001b[39;49m\u001b[43mdefault\u001b[49m\u001b[43m,\u001b[49m\u001b[43m \u001b[49m\u001b[43mids\u001b[49m\u001b[38;5;241;43m=\u001b[39;49m\u001b[38;5;28;43;01mNone\u001b[39;49;00m\u001b[43m)\u001b[49m)\n\u001b[0;32m    130\u001b[0m     fidelity \u001b[38;5;241m=\u001b[39m \u001b[38;5;28mself\u001b[39m\u001b[38;5;241m.\u001b[39mbinary_fidelities[unit]\n\u001b[0;32m    131\u001b[0m \u001b[38;5;28;01melse\u001b[39;00m:\n",
      "File \u001b[1;32mc:\\Users\\dudni\\VS_Code_Projects\\glocalx\\glocalx\\utilities\\coverage_utilities.py:36\u001b[0m, in \u001b[0;36mbinary_fidelity\u001b[1;34m(unit, x, y, evaluator, ids, default)\u001b[0m\n\u001b[0;32m     32\u001b[0m unit_predictions \u001b[38;5;241m=\u001b[39m np\u001b[38;5;241m.\u001b[39marray([unit\u001b[38;5;241m.\u001b[39mconsequence\n\u001b[0;32m     33\u001b[0m                              \u001b[38;5;28;01mfor\u001b[39;00m _ \u001b[38;5;129;01min\u001b[39;00m \u001b[38;5;28mrange\u001b[39m(x\u001b[38;5;241m.\u001b[39mshape[\u001b[38;5;241m0\u001b[39m] \u001b[38;5;28;01mif\u001b[39;00m ids \u001b[38;5;129;01mis\u001b[39;00m \u001b[38;5;28;01mNone\u001b[39;00m \u001b[38;5;28;01melse\u001b[39;00m ids\u001b[38;5;241m.\u001b[39mshape[\u001b[38;5;241m0\u001b[39m])])\u001b[38;5;241m.\u001b[39mflatten()\n\u001b[0;32m     34\u001b[0m unit_predictions[\u001b[38;5;241m~\u001b[39mcoverage] \u001b[38;5;241m=\u001b[39m default\n\u001b[1;32m---> 36\u001b[0m fidelity \u001b[38;5;241m=\u001b[39m \u001b[38;5;241m1\u001b[39m \u001b[38;5;241m-\u001b[39m \u001b[43mhamming\u001b[49m\u001b[43m(\u001b[49m\u001b[43munit_predictions\u001b[49m\u001b[43m,\u001b[49m\u001b[43m \u001b[49m\u001b[43my\u001b[49m\u001b[43m[\u001b[49m\u001b[43mids\u001b[49m\u001b[43m]\u001b[49m\u001b[43m \u001b[49m\u001b[38;5;28;43;01mif\u001b[39;49;00m\u001b[43m \u001b[49m\u001b[43mids\u001b[49m\u001b[43m \u001b[49m\u001b[38;5;129;43;01mis\u001b[39;49;00m\u001b[43m \u001b[49m\u001b[38;5;129;43;01mnot\u001b[39;49;00m\u001b[43m \u001b[49m\u001b[38;5;28;43;01mNone\u001b[39;49;00m\u001b[43m \u001b[49m\u001b[38;5;28;43;01melse\u001b[39;49;00m\u001b[43m \u001b[49m\u001b[43my\u001b[49m\u001b[43m)\u001b[49m \u001b[38;5;28;01mif\u001b[39;00m \u001b[38;5;28mlen\u001b[39m(y) \u001b[38;5;241m>\u001b[39m \u001b[38;5;241m0\u001b[39m \u001b[38;5;28;01melse\u001b[39;00m \u001b[38;5;241m0\u001b[39m\n\u001b[0;32m     38\u001b[0m \u001b[38;5;28;01mreturn\u001b[39;00m fidelity\n",
      "File \u001b[1;32mc:\\Users\\dudni\\VS_Code_Projects\\glocalx\\glocalx\\venv\\Lib\\site-packages\\scipy\\spatial\\distance.py:742\u001b[0m, in \u001b[0;36mhamming\u001b[1;34m(u, v, w)\u001b[0m\n\u001b[0;32m    698\u001b[0m \u001b[38;5;250m\u001b[39m\u001b[38;5;124;03m\"\"\"\u001b[39;00m\n\u001b[0;32m    699\u001b[0m \u001b[38;5;124;03mCompute the Hamming distance between two 1-D arrays.\u001b[39;00m\n\u001b[0;32m    700\u001b[0m \n\u001b[1;32m   (...)\u001b[0m\n\u001b[0;32m    739\u001b[0m \n\u001b[0;32m    740\u001b[0m \u001b[38;5;124;03m\"\"\"\u001b[39;00m\n\u001b[0;32m    741\u001b[0m u \u001b[38;5;241m=\u001b[39m _validate_vector(u)\n\u001b[1;32m--> 742\u001b[0m v \u001b[38;5;241m=\u001b[39m \u001b[43m_validate_vector\u001b[49m\u001b[43m(\u001b[49m\u001b[43mv\u001b[49m\u001b[43m)\u001b[49m\n\u001b[0;32m    743\u001b[0m \u001b[38;5;28;01mif\u001b[39;00m u\u001b[38;5;241m.\u001b[39mshape \u001b[38;5;241m!=\u001b[39m v\u001b[38;5;241m.\u001b[39mshape:\n\u001b[0;32m    744\u001b[0m     \u001b[38;5;28;01mraise\u001b[39;00m \u001b[38;5;167;01mValueError\u001b[39;00m(\u001b[38;5;124m'\u001b[39m\u001b[38;5;124mThe 1d arrays must have equal lengths.\u001b[39m\u001b[38;5;124m'\u001b[39m)\n",
      "File \u001b[1;32mc:\\Users\\dudni\\VS_Code_Projects\\glocalx\\glocalx\\venv\\Lib\\site-packages\\scipy\\spatial\\distance.py:302\u001b[0m, in \u001b[0;36m_validate_vector\u001b[1;34m(u, dtype)\u001b[0m\n\u001b[0;32m    300\u001b[0m \u001b[38;5;28;01mif\u001b[39;00m u\u001b[38;5;241m.\u001b[39mndim \u001b[38;5;241m==\u001b[39m \u001b[38;5;241m1\u001b[39m:\n\u001b[0;32m    301\u001b[0m     \u001b[38;5;28;01mreturn\u001b[39;00m u\n\u001b[1;32m--> 302\u001b[0m \u001b[38;5;28;01mraise\u001b[39;00m \u001b[38;5;167;01mValueError\u001b[39;00m(\u001b[38;5;124m\"\u001b[39m\u001b[38;5;124mInput vector should be 1-D.\u001b[39m\u001b[38;5;124m\"\u001b[39m)\n",
      "\u001b[1;31mValueError\u001b[0m: Input vector should be 1-D."
     ]
    }
   ],
   "source": [
    "# Create a GLocalX instance for `black_box`\n",
    "glocalx = GLocalX(model_ai=black_box)\n",
    "# Fit the model, use batch_size=128 for larger datasets\n",
    "glocalx = glocalx.fit(glocal_rules, data, batch_size=2, name='black_box_explanations')\n",
    "\n",
    "# Retrieve global explanations by fidelity\n",
    "alpha = 0.5\n",
    "global_explanations = glocalx.get_fine_boundary_alpha(alpha, data)\n",
    "# Retrieve global explanations by fidelity percentile\n",
    "alpha = 0.95\n",
    "global_explanations = glocalx.get_fine_boundary_alpha(alpha, data)\n",
    "# Retrieve exactly `alpha` global explanations, `alpha/2` per class\n",
    "alpha = 10\n",
    "global_explanations = glocalx.get_fine_boundary_alpha(alpha, data)"
   ]
  }
 ],
 "metadata": {
  "kernelspec": {
   "display_name": "venv",
   "language": "python",
   "name": "python3"
  },
  "language_info": {
   "codemirror_mode": {
    "name": "ipython",
    "version": 3
   },
   "file_extension": ".py",
   "mimetype": "text/x-python",
   "name": "python",
   "nbconvert_exporter": "python",
   "pygments_lexer": "ipython3",
   "version": "3.11.5"
  }
 },
 "nbformat": 4,
 "nbformat_minor": 2
}
