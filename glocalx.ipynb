{
 "cells": [
  {
   "cell_type": "markdown",
   "metadata": {},
   "source": [
    "Testing "
   ]
  },
  {
   "cell_type": "code",
   "execution_count": 1,
   "metadata": {},
   "outputs": [],
   "source": [
    "import numpy as np\n",
    "import logzero\n",
    "import pickle\n",
    "\n",
    "from glocalx import GLocalX, shut_up_tensorflow\n",
    "from rule_loaders.lore_to_glocalx import lore_to_glocalx\n",
    "\n",
    "from lore_explainer.datamanager import prepare_adult_dataset, prepare_dataset\n",
    "\n",
    "# Set log profile: INFO for normal logging, DEBUG for verbosity\n",
    "logzero.loglevel(logzero.logging.DEBUG)\n",
    "shut_up_tensorflow()\n",
    "\n",
    "# Load black box: optional! Use black_box = None to use the dataset labels\n",
    "model_file = \"RandomForestClassifier_for_adult\"\n",
    "# Load the model\n",
    "with open(f\"data/models/{model_file}.pkl\", 'rb') as model_file:\n",
    "    black_box = pickle.load(model_file)"
   ]
  },
  {
   "cell_type": "code",
   "execution_count": 2,
   "metadata": {},
   "outputs": [],
   "source": [
    "# Load data and header\n",
    "\n",
    "# data = np.genfromtxt('data/dummy/dummy_dataset.csv', delimiter=',', names=True)\n",
    "# features_names = data.dtype.names\n",
    "\n",
    "data_filename = 'adult'\n",
    "# Prepare data\n",
    "if data_filename == \"adult\":\n",
    "    df, class_name = prepare_adult_dataset(f'data/{data_filename}.csv')\n",
    "else:\n",
    "    raise NotImplementedError\n",
    "df, feature_names, *_ = prepare_dataset(\n",
    "    df, class_name)"
   ]
  },
  {
   "cell_type": "code",
   "execution_count": 3,
   "metadata": {},
   "outputs": [
    {
     "data": {
      "text/plain": [
       "array([[   39,  2174,     0, ...,     0,     0,     0],\n",
       "       [   50,     0,     0, ...,     0,     0,     0],\n",
       "       [   38,     0,     0, ...,     0,     0,     0],\n",
       "       ...,\n",
       "       [   58,     0,     0, ...,     0,     0,     0],\n",
       "       [   22,     0,     0, ...,     0,     0,     0],\n",
       "       [   52, 15024,     0, ...,     0,     0,     1]])"
      ]
     },
     "execution_count": 3,
     "metadata": {},
     "output_type": "execute_result"
    }
   ],
   "source": [
    "data = df.to_numpy()\n",
    "data = [list(sample) for sample in data]\n",
    "data = np.array(data)\n",
    "data"
   ]
  },
  {
   "cell_type": "code",
   "execution_count": 4,
   "metadata": {},
   "outputs": [
    {
     "name": "stdout",
     "output_type": "stream",
     "text": [
      "[{26: (-inf, 0.5), 27: (0.5, inf), 3: (-inf, 39.0)}-> 0, {1: (-inf, 5591.656005859375), 57: (0.5, inf), 3: (-inf, 48.5)}-> 0, {3: (-inf, 30.0), 35: (-inf, 0.5)}-> 0, {60: (-inf, 0.5), 53: (-inf, 0.5), 32: (-inf, 0.5), 0: (22.5, inf), 21: (-inf, 0.5), 1: (-inf, 5190.6376953125)}-> 0, {1: (-inf, 3844.0), 59: (0.5, inf)}-> 0, {1: (-inf, 4804.0)}-> 0, {32: (-inf, 0.5), 37: (-inf, 0.5)}-> 1, {1: (-inf, 12111.0), 32: (0.5, inf)}-> 0, {60: (-inf, 0.5), 27: (-inf, 0.5), 21: (-inf, 0.5), 59: (0.5, inf)}-> 0, {0: (-inf, 40.38766098022461), 38: (0.5, inf), 17: (-inf, 0.5)}-> 0, {1: (-inf, 5381.0), 16: (0.5, inf)}-> 0, {32: (-inf, 0.5), 3: (-inf, 38.5), 49: (-inf, 0.5), 27: (-inf, 0.5)}-> 1, {5: (-inf, 0.5), 0: (-inf, 41.5), 1: (-inf, 5819.0), 27: (-inf, 0.5)}-> 0, {50: (-inf, 0.5), 3: (37.5, 41.0), 0: (-inf, 34.5), 40: (-inf, 0.5)}-> 1, {3: (-inf, 39.5)}-> 0, {1: (-inf, 6625.64453125), 21: (-inf, 0.5), 54: (-inf, 0.5)}-> 0, {1: (-inf, 9228.0), 60: (0.5, inf)}-> 0, {1: (-inf, 3662.5), 38: (-inf, 0.5), 54: (-inf, 0.5), 4: (-inf, 0.5)}-> 0, {2: (1926.5, inf), 28: (-inf, 0.5)}-> 1, {3: (47.5, 52.5), 0: (38.5, inf)}-> 1, {1: (-inf, 3424.0), 23: (0.5, inf), 24: (-inf, 0.5)}-> 0, {2: (1789.5, inf), 3: (34.0, inf)}-> 1, {1: (-inf, 6137.58544921875), 53: (0.5, inf)}-> 0, {23: (-inf, 0.5), 0: (28.5, inf), 52: (-inf, 0.5), 42: (-inf, 0.5)}-> 1, {3: (-inf, 44.0), 0: (-inf, 53.5), 2: (-inf, 957.5)}-> 0, {1: (-inf, 3844.0), 28: (0.5, inf)}-> 0, {51: (0.5, inf)}-> 0, {1: (-inf, 3844.0), 20: (-inf, 0.5)}-> 0, {1: (-inf, 3364.867919921875), 9: (-inf, 0.5)}-> 0, {1: (-inf, 6155.5), 27: (0.5, inf)}-> 0]\n"
     ]
    }
   ],
   "source": [
    "# Load local explanations\n",
    "lore_rules_file = \"lore_rules_adult_30\"\n",
    "info_file = \"adult_info\"\n",
    "glocal_rules = lore_to_glocalx(f\"data/lore_rules/{lore_rules_file}.pkl\", f\"data/info_files/{info_file}.json\")\n",
    "print(glocal_rules)"
   ]
  },
  {
   "cell_type": "code",
   "execution_count": 14,
   "metadata": {},
   "outputs": [
    {
     "name": "stderr",
     "output_type": "stream",
     "text": [
      "[D 240725 20:17:23 glocalx:398] sample_name | ************************ Iteration 1 with num of theories: 30\n",
      "[D 240725 20:17:23 glocalx:404] Computing distances\n",
      "[D 240725 20:17:23 glocalx:410] sample_name|  sorting candidates queue\n",
      "[D 240725 20:17:24 glocalx:423] sample_name creating fine boundary\n",
      "[D 240725 20:17:24 glocalx:437] sample_name merged candidate 0\n",
      "[D 240725 20:17:24 evaluators:226] Log likelihood: 0.7830840576149382 | Complexity: 0.019417475728155338\n",
      "[D 240725 20:17:24 glocalx:447] sample_name Merged candidate\n",
      "[D 240725 20:17:24 glocalx:398] sample_name | ************************ Iteration 2 with num of theories: 29\n",
      "[D 240725 20:17:24 glocalx:404] Computing distances\n",
      "[D 240725 20:17:24 glocalx:410] sample_name|  sorting candidates queue\n",
      "[D 240725 20:17:24 glocalx:423] sample_name creating fine boundary\n",
      "[D 240725 20:17:24 glocalx:437] sample_name merged candidate 0\n",
      "[D 240725 20:17:24 evaluators:226] Log likelihood: 0.7702773256349621 | Complexity: 0.014563106796116504\n",
      "[D 240725 20:17:24 glocalx:447] sample_name Merged candidate\n",
      "[D 240725 20:17:24 glocalx:398] sample_name | ************************ Iteration 3 with num of theories: 28\n",
      "[D 240725 20:17:24 glocalx:404] Computing distances\n",
      "[D 240725 20:17:24 glocalx:410] sample_name|  sorting candidates queue\n",
      "[D 240725 20:17:24 glocalx:423] sample_name creating fine boundary\n",
      "[D 240725 20:17:24 glocalx:437] sample_name merged candidate 0\n",
      "[D 240725 20:17:24 evaluators:226] Log likelihood: 0.7702773256349621 | Complexity: 0.014563106796116504\n",
      "[D 240725 20:17:24 evaluators:226] Log likelihood: 0.7702773256349621 | Complexity: 0.009708737864077669\n",
      "[D 240725 20:17:24 glocalx:447] sample_name Merged candidate\n",
      "[D 240725 20:17:24 glocalx:398] sample_name | ************************ Iteration 4 with num of theories: 27\n",
      "[D 240725 20:17:24 glocalx:404] Computing distances\n",
      "[D 240725 20:17:24 glocalx:410] sample_name|  sorting candidates queue\n",
      "[D 240725 20:17:24 glocalx:423] sample_name creating fine boundary\n",
      "[D 240725 20:17:24 glocalx:437] sample_name merged candidate 0\n",
      "[D 240725 20:17:24 evaluators:226] Log likelihood: 0.7833297503147938 | Complexity: 0.01699029126213592\n",
      "[D 240725 20:17:24 glocalx:447] sample_name Merged candidate\n",
      "[D 240725 20:17:24 glocalx:398] sample_name | ************************ Iteration 5 with num of theories: 26\n",
      "[D 240725 20:17:24 glocalx:404] Computing distances\n",
      "[D 240725 20:17:24 glocalx:410] sample_name|  sorting candidates queue\n",
      "[D 240725 20:17:24 glocalx:423] sample_name creating fine boundary\n",
      "[D 240725 20:17:24 glocalx:437] sample_name merged candidate 0\n",
      "[D 240725 20:17:24 evaluators:226] Log likelihood: 0.7702773256349621 | Complexity: 0.014563106796116504\n",
      "[D 240725 20:17:24 glocalx:447] sample_name Merged candidate\n",
      "[D 240725 20:17:24 glocalx:398] sample_name | ************************ Iteration 6 with num of theories: 25\n",
      "[D 240725 20:17:24 glocalx:404] Computing distances\n",
      "[D 240725 20:17:24 glocalx:410] sample_name|  sorting candidates queue\n",
      "[D 240725 20:17:24 glocalx:423] sample_name creating fine boundary\n",
      "[D 240725 20:17:24 glocalx:437] sample_name merged candidate 0\n",
      "[D 240725 20:17:24 evaluators:226] Log likelihood: 0.7702773256349621 | Complexity: 0.014563106796116504\n",
      "[D 240725 20:17:24 evaluators:226] Log likelihood: 0.7702773256349621 | Complexity: 0.009708737864077669\n",
      "[D 240725 20:17:24 glocalx:447] sample_name Merged candidate\n",
      "[D 240725 20:17:24 glocalx:398] sample_name | ************************ Iteration 7 with num of theories: 24\n",
      "[D 240725 20:17:24 glocalx:404] Computing distances\n",
      "[D 240725 20:17:24 glocalx:410] sample_name|  sorting candidates queue\n",
      "[D 240725 20:17:24 glocalx:423] sample_name creating fine boundary\n",
      "[D 240725 20:17:24 glocalx:437] sample_name merged candidate 0\n",
      "[D 240725 20:17:24 evaluators:226] Log likelihood: 0.7735327539080495 | Complexity: 0.024271844660194174\n",
      "[D 240725 20:17:24 evaluators:226] Log likelihood: 0.7702773256349621 | Complexity: 0.02912621359223301\n",
      "[D 240725 20:17:24 glocalx:461] sample_name| Rejected merge, cnt: 1\n",
      "[D 240725 20:17:25 glocalx:437] sample_name merged candidate 1\n",
      "[D 240725 20:17:25 evaluators:226] Log likelihood: 0.7297380301587789 | Complexity: 0.029126213592233007\n",
      "[D 240725 20:17:25 glocalx:447] sample_name Merged candidate\n",
      "[D 240725 20:17:25 glocalx:398] sample_name | ************************ Iteration 8 with num of theories: 23\n",
      "[D 240725 20:17:25 glocalx:404] Computing distances\n",
      "[D 240725 20:17:25 glocalx:410] sample_name|  sorting candidates queue\n",
      "[D 240725 20:17:25 glocalx:423] sample_name creating fine boundary\n",
      "[D 240725 20:17:25 glocalx:437] sample_name merged candidate 0\n",
      "[D 240725 20:17:25 evaluators:226] Log likelihood: 0.7702773256349621 | Complexity: 0.024271844660194174\n",
      "[D 240725 20:17:25 glocalx:447] sample_name Merged candidate\n",
      "[D 240725 20:17:25 glocalx:398] sample_name | ************************ Iteration 9 with num of theories: 22\n",
      "[D 240725 20:17:25 glocalx:404] Computing distances\n",
      "[D 240725 20:17:25 glocalx:410] sample_name|  sorting candidates queue\n",
      "[D 240725 20:17:25 glocalx:423] sample_name creating fine boundary\n",
      "[D 240725 20:17:25 glocalx:437] sample_name merged candidate 0\n",
      "[D 240725 20:17:25 evaluators:226] Log likelihood: 0.7702773256349621 | Complexity: 0.019417475728155338\n",
      "[D 240725 20:17:25 evaluators:226] Log likelihood: 0.7702773256349621 | Complexity: 0.009708737864077669\n",
      "[D 240725 20:17:25 glocalx:447] sample_name Merged candidate\n",
      "[D 240725 20:17:25 glocalx:398] sample_name | ************************ Iteration 10 with num of theories: 21\n",
      "[D 240725 20:17:25 glocalx:404] Computing distances\n",
      "[D 240725 20:17:25 glocalx:410] sample_name|  sorting candidates queue\n",
      "[D 240725 20:17:25 glocalx:423] sample_name creating fine boundary\n",
      "[D 240725 20:17:25 glocalx:437] sample_name merged candidate 0\n",
      "[D 240725 20:17:25 evaluators:226] Log likelihood: 0.7702773256349621 | Complexity: 0.009708737864077669\n",
      "[D 240725 20:17:25 glocalx:447] sample_name Merged candidate\n",
      "[D 240725 20:17:25 glocalx:398] sample_name | ************************ Iteration 11 with num of theories: 20\n",
      "[D 240725 20:17:25 glocalx:404] Computing distances\n",
      "[D 240725 20:17:25 glocalx:410] sample_name|  sorting candidates queue\n",
      "[D 240725 20:17:25 glocalx:423] sample_name creating fine boundary\n",
      "[D 240725 20:17:25 glocalx:437] sample_name merged candidate 0\n",
      "[D 240725 20:17:25 evaluators:226] Log likelihood: 0.783176192377384 | Complexity: 0.019417475728155338\n",
      "[D 240725 20:17:25 glocalx:447] sample_name Merged candidate\n",
      "[D 240725 20:17:25 glocalx:398] sample_name | ************************ Iteration 12 with num of theories: 19\n",
      "[D 240725 20:17:25 glocalx:404] Computing distances\n",
      "[D 240725 20:17:25 glocalx:410] sample_name|  sorting candidates queue\n",
      "[D 240725 20:17:25 glocalx:423] sample_name creating fine boundary\n",
      "[D 240725 20:17:25 glocalx:437] sample_name merged candidate 0\n",
      "[D 240725 20:17:25 evaluators:226] Log likelihood: 0.7702773256349621 | Complexity: 0.014563106796116504\n",
      "[D 240725 20:17:25 glocalx:447] sample_name Merged candidate\n",
      "[D 240725 20:17:25 glocalx:398] sample_name | ************************ Iteration 13 with num of theories: 18\n",
      "[D 240725 20:17:25 glocalx:404] Computing distances\n",
      "[D 240725 20:17:25 glocalx:410] sample_name|  sorting candidates queue\n",
      "[D 240725 20:17:25 glocalx:423] sample_name creating fine boundary\n",
      "[D 240725 20:17:25 glocalx:437] sample_name merged candidate 0\n",
      "[D 240725 20:17:25 evaluators:226] Log likelihood: 0.7702773256349621 | Complexity: 0.02427184466019417\n",
      "[D 240725 20:17:25 glocalx:447] sample_name Merged candidate\n",
      "[D 240725 20:17:25 glocalx:398] sample_name | ************************ Iteration 14 with num of theories: 17\n",
      "[D 240725 20:17:25 glocalx:404] Computing distances\n",
      "[D 240725 20:17:25 glocalx:410] sample_name|  sorting candidates queue\n",
      "[D 240725 20:17:25 glocalx:423] sample_name creating fine boundary\n",
      "[D 240725 20:17:25 glocalx:437] sample_name merged candidate 0\n",
      "[D 240725 20:17:25 evaluators:226] Log likelihood: 0.7702773256349621 | Complexity: 0.019417475728155338\n",
      "[D 240725 20:17:25 evaluators:226] Log likelihood: 0.7702773256349621 | Complexity: 0.009708737864077669\n",
      "[D 240725 20:17:25 glocalx:447] sample_name Merged candidate\n",
      "[D 240725 20:17:26 glocalx:398] sample_name | ************************ Iteration 15 with num of theories: 16\n",
      "[D 240725 20:17:26 glocalx:404] Computing distances\n",
      "[D 240725 20:17:26 glocalx:410] sample_name|  sorting candidates queue\n",
      "[D 240725 20:17:26 glocalx:423] sample_name creating fine boundary\n",
      "[D 240725 20:17:26 glocalx:437] sample_name merged candidate 0\n",
      "[D 240725 20:17:26 evaluators:226] Log likelihood: 0.7702773256349621 | Complexity: 0.022653721682847894\n",
      "[D 240725 20:17:26 evaluators:226] Log likelihood: 0.7702773256349621 | Complexity: 0.009708737864077669\n",
      "[D 240725 20:17:26 glocalx:447] sample_name Merged candidate\n",
      "[D 240725 20:17:26 glocalx:398] sample_name | ************************ Iteration 16 with num of theories: 15\n",
      "[D 240725 20:17:26 glocalx:404] Computing distances\n",
      "[D 240725 20:17:26 glocalx:410] sample_name|  sorting candidates queue\n",
      "[D 240725 20:17:26 glocalx:423] sample_name creating fine boundary\n",
      "[D 240725 20:17:26 glocalx:437] sample_name merged candidate 0\n",
      "[D 240725 20:17:26 evaluators:226] Log likelihood: 0.7702773256349621 | Complexity: 0.043689320388349516\n",
      "[D 240725 20:17:26 evaluators:226] Log likelihood: 0.7702773256349621 | Complexity: 0.019417475728155338\n",
      "[D 240725 20:17:26 glocalx:447] sample_name Merged candidate\n",
      "[D 240725 20:17:26 glocalx:398] sample_name | ************************ Iteration 17 with num of theories: 14\n",
      "[D 240725 20:17:26 glocalx:404] Computing distances\n",
      "[D 240725 20:17:26 glocalx:410] sample_name|  sorting candidates queue\n",
      "[D 240725 20:17:26 glocalx:423] sample_name creating fine boundary\n",
      "[D 240725 20:17:26 glocalx:437] sample_name merged candidate 0\n",
      "[D 240725 20:17:26 evaluators:226] Log likelihood: 0.7512054298086668 | Complexity: 0.02219140083217753\n",
      "[D 240725 20:17:26 evaluators:226] Log likelihood: 0.7731027916833021 | Complexity: 0.016181229773462782\n",
      "[D 240725 20:17:26 glocalx:447] sample_name Merged candidate\n",
      "[D 240725 20:17:26 glocalx:398] sample_name | ************************ Iteration 18 with num of theories: 13\n",
      "[D 240725 20:17:26 glocalx:404] Computing distances\n",
      "[D 240725 20:17:26 glocalx:410] sample_name|  sorting candidates queue\n",
      "[D 240725 20:17:26 glocalx:423] sample_name creating fine boundary\n",
      "[D 240725 20:17:26 glocalx:437] sample_name merged candidate 0\n",
      "[D 240725 20:17:26 evaluators:226] Log likelihood: 0.676852676514849 | Complexity: 0.021844660194174755\n",
      "[D 240725 20:17:26 glocalx:447] sample_name Merged candidate\n",
      "[D 240725 20:17:26 glocalx:398] sample_name | ************************ Iteration 19 with num of theories: 12\n",
      "[D 240725 20:17:26 glocalx:404] Computing distances\n",
      "[D 240725 20:17:26 glocalx:410] sample_name|  sorting candidates queue\n",
      "[D 240725 20:17:26 glocalx:423] sample_name creating fine boundary\n",
      "[D 240725 20:17:26 glocalx:437] sample_name merged candidate 0\n",
      "[D 240725 20:17:26 evaluators:226] Log likelihood: 0.7702773256349621 | Complexity: 0.014563106796116504\n",
      "[D 240725 20:17:26 glocalx:447] sample_name Merged candidate\n",
      "[D 240725 20:17:26 glocalx:398] sample_name | ************************ Iteration 20 with num of theories: 11\n",
      "[D 240725 20:17:26 glocalx:404] Computing distances\n",
      "[D 240725 20:17:26 glocalx:410] sample_name|  sorting candidates queue\n",
      "[D 240725 20:17:26 glocalx:423] sample_name creating fine boundary\n",
      "[D 240725 20:17:26 glocalx:437] sample_name merged candidate 0\n",
      "[D 240725 20:17:26 evaluators:226] Log likelihood: 0.7034489112742237 | Complexity: 0.019417475728155338\n",
      "[D 240725 20:17:26 evaluators:226] Log likelihood: 0.7730413685083382 | Complexity: 0.019417475728155338\n",
      "[D 240725 20:17:26 glocalx:447] sample_name Merged candidate\n",
      "[D 240725 20:17:26 glocalx:398] sample_name | ************************ Iteration 21 with num of theories: 10\n",
      "[D 240725 20:17:26 glocalx:404] Computing distances\n",
      "[D 240725 20:17:26 glocalx:410] sample_name|  sorting candidates queue\n",
      "[D 240725 20:17:26 glocalx:423] sample_name creating fine boundary\n",
      "[D 240725 20:17:26 glocalx:437] sample_name merged candidate 0\n",
      "[D 240725 20:17:26 evaluators:226] Log likelihood: 0.7747305058198458 | Complexity: 0.019417475728155338\n",
      "[D 240725 20:17:26 glocalx:447] sample_name Merged candidate\n",
      "[D 240725 20:17:26 glocalx:398] sample_name | ************************ Iteration 22 with num of theories: 9\n",
      "[D 240725 20:17:26 glocalx:404] Computing distances\n",
      "[D 240725 20:17:26 glocalx:410] sample_name|  sorting candidates queue\n",
      "[D 240725 20:17:26 glocalx:423] sample_name creating fine boundary\n",
      "[D 240725 20:17:26 glocalx:437] sample_name merged candidate 0\n",
      "[D 240725 20:17:26 evaluators:226] Log likelihood: 0.7702773256349621 | Complexity: 0.029126213592233007\n",
      "[D 240725 20:17:26 evaluators:226] Log likelihood: 0.7702773256349621 | Complexity: 0.009708737864077669\n",
      "[D 240725 20:17:26 glocalx:447] sample_name Merged candidate\n",
      "[D 240725 20:17:26 glocalx:398] sample_name | ************************ Iteration 23 with num of theories: 8\n",
      "[D 240725 20:17:26 glocalx:404] Computing distances\n",
      "[D 240725 20:17:26 glocalx:410] sample_name|  sorting candidates queue\n",
      "[D 240725 20:17:26 glocalx:423] sample_name creating fine boundary\n",
      "[D 240725 20:17:26 glocalx:437] sample_name merged candidate 0\n",
      "[D 240725 20:17:26 evaluators:226] Log likelihood: 0.7702773256349621 | Complexity: 0.009708737864077669\n",
      "[D 240725 20:17:26 glocalx:447] sample_name Merged candidate\n",
      "[D 240725 20:17:26 glocalx:398] sample_name | ************************ Iteration 24 with num of theories: 7\n",
      "[D 240725 20:17:26 glocalx:404] Computing distances\n",
      "[D 240725 20:17:26 glocalx:410] sample_name|  sorting candidates queue\n",
      "[D 240725 20:17:26 glocalx:423] sample_name creating fine boundary\n",
      "[D 240725 20:17:27 glocalx:437] sample_name merged candidate 0\n",
      "[D 240725 20:17:27 evaluators:226] Log likelihood: 0.5204078498817604 | Complexity: 0.029126213592233007\n",
      "[D 240725 20:17:27 glocalx:447] sample_name Merged candidate\n",
      "[D 240725 20:17:27 glocalx:398] sample_name | ************************ Iteration 25 with num of theories: 6\n",
      "[D 240725 20:17:27 glocalx:404] Computing distances\n",
      "[D 240725 20:17:27 glocalx:410] sample_name|  sorting candidates queue\n",
      "[D 240725 20:17:27 glocalx:423] sample_name creating fine boundary\n",
      "[D 240725 20:17:27 glocalx:437] sample_name merged candidate 0\n",
      "[D 240725 20:17:27 evaluators:226] Log likelihood: 0.7702773256349621 | Complexity: 0.019417475728155338\n",
      "[D 240725 20:17:27 glocalx:447] sample_name Merged candidate\n",
      "[D 240725 20:17:27 glocalx:398] sample_name | ************************ Iteration 26 with num of theories: 5\n",
      "[D 240725 20:17:27 glocalx:404] Computing distances\n",
      "[D 240725 20:17:27 glocalx:410] sample_name|  sorting candidates queue\n",
      "[D 240725 20:17:27 glocalx:423] sample_name creating fine boundary\n",
      "[D 240725 20:17:27 glocalx:437] sample_name merged candidate 0\n",
      "[D 240725 20:17:27 evaluators:226] Log likelihood: 0.7722735788212893 | Complexity: 0.019417475728155338\n",
      "[D 240725 20:17:27 evaluators:226] Log likelihood: 0.7702773256349621 | Complexity: 0.019417475728155338\n",
      "[D 240725 20:17:27 glocalx:461] sample_name| Rejected merge, cnt: 1\n",
      "[D 240725 20:17:27 glocalx:437] sample_name merged candidate 1\n",
      "[D 240725 20:17:27 evaluators:226] Log likelihood: 0.7743926783575443 | Complexity: 0.017475728155339803\n",
      "[D 240725 20:17:27 glocalx:461] sample_name| Rejected merge, cnt: 2\n",
      "[D 240725 20:17:27 glocalx:437] sample_name merged candidate 2\n",
      "[D 240725 20:17:27 evaluators:226] Log likelihood: 0.6424864101225392 | Complexity: 0.0233009708737864\n",
      "[D 240725 20:17:27 evaluators:226] Log likelihood: 0.6841927459230368 | Complexity: 0.02588996763754045\n",
      "[D 240725 20:17:27 glocalx:447] sample_name Merged candidate\n",
      "[D 240725 20:17:27 glocalx:398] sample_name | ************************ Iteration 27 with num of theories: 4\n",
      "[D 240725 20:17:27 glocalx:404] Computing distances\n",
      "[D 240725 20:17:27 glocalx:410] sample_name|  sorting candidates queue\n",
      "[D 240725 20:17:27 glocalx:423] sample_name creating fine boundary\n",
      "[D 240725 20:17:27 glocalx:437] sample_name merged candidate 0\n",
      "[D 240725 20:17:27 evaluators:226] Log likelihood: 0.7253155615613771 | Complexity: 0.02427184466019417\n",
      "[D 240725 20:17:27 glocalx:447] sample_name Merged candidate\n",
      "[D 240725 20:17:27 glocalx:398] sample_name | ************************ Iteration 28 with num of theories: 3\n",
      "[D 240725 20:17:27 glocalx:404] Computing distances\n",
      "[D 240725 20:17:27 glocalx:410] sample_name|  sorting candidates queue\n",
      "[D 240725 20:17:27 glocalx:423] sample_name creating fine boundary\n",
      "[D 240725 20:17:27 glocalx:437] sample_name merged candidate 0\n",
      "[D 240725 20:17:27 evaluators:226] Log likelihood: 0.7702773256349621 | Complexity: 0.019417475728155338\n",
      "[D 240725 20:17:27 evaluators:226] Log likelihood: 0.7702773256349621 | Complexity: 0.019417475728155338\n",
      "[D 240725 20:17:27 glocalx:447] sample_name Merged candidate\n",
      "[D 240725 20:17:27 glocalx:495] sample_name Dumping \n"
     ]
    }
   ],
   "source": [
    "# Create a GLocalX instance for `black_box`\n",
    "glocalx = GLocalX(model_ai=black_box, name='sample_name')\n",
    "# Fit the model, use batch_size=128 for larger datasets\n",
    "glocalx.fit(glocal_rules, data, batch_size=128)"
   ]
  },
  {
   "cell_type": "code",
   "execution_count": 15,
   "metadata": {},
   "outputs": [
    {
     "data": {
      "text/plain": [
       "[{{3: (-inf, 44.0), 0: (-inf, 53.5), 2: (-inf, 957.5)}-> 0,\n",
       "  {1: (-inf, 12111.0)}-> 0,\n",
       "  {1: (-inf, 5381.0), 16: (0.5, inf)}-> 0,\n",
       "  {60: (-inf, 0.5), 21: (-inf, 0.5)}-> 0},\n",
       " {{1: (-inf, 9228.0), 60: (0.5, inf)}-> 0, {3: (-inf, 39.5)}-> 0}]"
      ]
     },
     "execution_count": 15,
     "metadata": {},
     "output_type": "execute_result"
    }
   ],
   "source": [
    "glocalx.boundary"
   ]
  },
  {
   "cell_type": "code",
   "execution_count": 16,
   "metadata": {},
   "outputs": [
    {
     "data": {
      "text/plain": [
       "{{3: (-inf, 44.0), 0: (-inf, 53.5), 2: (-inf, 957.5)}-> 0,\n",
       " {1: (-inf, 12111.0)}-> 0,\n",
       " {1: (-inf, 5381.0), 16: (0.5, inf)}-> 0,\n",
       " {1: (-inf, 9228.0), 60: (0.5, inf)}-> 0,\n",
       " {60: (-inf, 0.5), 21: (-inf, 0.5)}-> 0,\n",
       " {3: (-inf, 39.5)}-> 0}"
      ]
     },
     "execution_count": 16,
     "metadata": {},
     "output_type": "execute_result"
    }
   ],
   "source": [
    "glocalx.fine_boundary"
   ]
  },
  {
   "cell_type": "code",
   "execution_count": 18,
   "metadata": {},
   "outputs": [
    {
     "data": {
      "text/plain": [
       "[{1: (-inf, 6155.5), 27: (0.5, inf)}-> 0,\n",
       " {3: (-inf, 48.5)}-> 0,\n",
       " {3: (47.5, 52.5), 0: (38.5, inf)}-> 1,\n",
       " {2: (1789.5, inf)}-> 1]"
      ]
     },
     "execution_count": 18,
     "metadata": {},
     "output_type": "execute_result"
    }
   ],
   "source": [
    "# Retrieve global explanations by fidelity percentile\n",
    "alpha = 0.5\n",
    "global_explanations = glocalx.get_fine_boundary_alpha(alpha, data)\n",
    "global_explanations"
   ]
  },
  {
   "cell_type": "code",
   "execution_count": 29,
   "metadata": {},
   "outputs": [
    {
     "data": {
      "text/plain": [
       "[{}-> 0,\n",
       " {3: (-inf, 48.5)}-> 0,\n",
       " {1: (-inf, 6155.5), 27: (0.5, inf)}-> 0,\n",
       " {}-> 1,\n",
       " {3: (47.5, 52.5), 0: (38.5, inf)}-> 1,\n",
       " {2: (1789.5, inf)}-> 1]"
      ]
     },
     "execution_count": 29,
     "metadata": {},
     "output_type": "execute_result"
    }
   ],
   "source": [
    "# Retrieve exactly `alpha` global explanations\n",
    "alpha = 4\n",
    "global_explanations = glocalx.get_fine_boundary_alpha(alpha, data)\n",
    "global_explanations"
   ]
  },
  {
   "cell_type": "code",
   "execution_count": 26,
   "metadata": {},
   "outputs": [
    {
     "data": {
      "text/plain": [
       "-0.7702767789885829"
      ]
     },
     "execution_count": 26,
     "metadata": {},
     "output_type": "execute_result"
    }
   ],
   "source": [
    "glocalx.evaluator.bic(glocalx.fine_boundary, data)"
   ]
  },
  {
   "cell_type": "code",
   "execution_count": null,
   "metadata": {},
   "outputs": [],
   "source": [
    "glocalx.evaluator.binary_fidelity_model(glocalx.fine_boundary)"
   ]
  },
  {
   "cell_type": "code",
   "execution_count": 30,
   "metadata": {},
   "outputs": [
    {
     "data": {
      "text/plain": [
       "{}"
      ]
     },
     "execution_count": 30,
     "metadata": {},
     "output_type": "execute_result"
    }
   ],
   "source": [
    "glocalx.evaluator.perfect_coverages"
   ]
  }
 ],
 "metadata": {
  "kernelspec": {
   "display_name": "venv",
   "language": "python",
   "name": "python3"
  },
  "language_info": {
   "codemirror_mode": {
    "name": "ipython",
    "version": 3
   },
   "file_extension": ".py",
   "mimetype": "text/x-python",
   "name": "python",
   "nbconvert_exporter": "python",
   "pygments_lexer": "ipython3",
   "version": "3.11.5"
  }
 },
 "nbformat": 4,
 "nbformat_minor": 2
}
