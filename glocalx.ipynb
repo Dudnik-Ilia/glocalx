{
 "cells": [
  {
   "cell_type": "markdown",
   "metadata": {},
   "source": [
    "Testing "
   ]
  },
  {
   "cell_type": "code",
   "execution_count": 1,
   "metadata": {},
   "outputs": [],
   "source": [
    "import numpy as np\n",
    "import logzero\n",
    "import pickle\n",
    "from pprint import pprint\n",
    "from lore_explainer.datamanager import prepare_adult_dataset, prepare_dataset\n",
    "\n",
    "from glocalx import GLocalX, shut_up_tensorflow\n",
    "from rule_loaders.lore_to_glocalx import lore_to_glocalx\n",
    "\n",
    "\n",
    "# Set log profile: INFO for normal logging, DEBUG for verbosity\n",
    "logzero.loglevel(logzero.logging.DEBUG)\n",
    "np.set_printoptions(precision=4, suppress=True)\n",
    "shut_up_tensorflow()\n",
    "\n",
    "# Load black box: optional!\n",
    "# Use black_box = None to use the dataset labels\n",
    "model_file = \"RandomForestClassifier_for_adult\"\n",
    "with open(f\"data/models/{model_file}.pkl\", 'rb') as model_file:\n",
    "    black_box = pickle.load(model_file)"
   ]
  },
  {
   "cell_type": "code",
   "execution_count": 2,
   "metadata": {},
   "outputs": [
    {
     "name": "stdout",
     "output_type": "stream",
     "text": [
      "Data size is:  (32561, 104)\n"
     ]
    }
   ],
   "source": [
    "data_filename = 'adult'\n",
    "# Prepare data\n",
    "if data_filename == \"adult\":\n",
    "    df, class_name = prepare_adult_dataset(f'data/{data_filename}.csv')\n",
    "else:\n",
    "    raise NotImplementedError\n",
    "df, feature_names, *_ = prepare_dataset(\n",
    "    df, class_name)\n",
    "\n",
    "data = df.to_numpy(dtype=np.float32)\n",
    "print(\"Data size is: \", data.shape)"
   ]
  },
  {
   "cell_type": "code",
   "execution_count": 3,
   "metadata": {},
   "outputs": [],
   "source": [
    "# Load local explanations\n",
    "lore_rules_file = \"lore_rules_adult_30\"\n",
    "info_file = \"adult_info\"\n",
    "glocal_rules = lore_to_glocalx(f\"data/lore_rules/{lore_rules_file}.pkl\", f\"data/info_files/{info_file}.json\")\n",
    "# pprint(glocal_rules)"
   ]
  },
  {
   "cell_type": "code",
   "execution_count": null,
   "metadata": {},
   "outputs": [
    {
     "ename": "AttributeError",
     "evalue": "'GLocalX' object has no attribute 'name'",
     "output_type": "error",
     "traceback": [
      "\u001b[1;31m---------------------------------------------------------------------------\u001b[0m",
      "\u001b[1;31mAttributeError\u001b[0m                            Traceback (most recent call last)",
      "Cell \u001b[1;32mIn[4], line 4\u001b[0m\n\u001b[0;32m      2\u001b[0m glocalx \u001b[38;5;241m=\u001b[39m GLocalX(model_ai\u001b[38;5;241m=\u001b[39mblack_box)\n\u001b[0;32m      3\u001b[0m \u001b[38;5;66;03m# Fit the model, use batch_size=128 for larger datasets\u001b[39;00m\n\u001b[1;32m----> 4\u001b[0m \u001b[43mglocalx\u001b[49m\u001b[38;5;241;43m.\u001b[39;49m\u001b[43mfit\u001b[49m\u001b[43m(\u001b[49m\u001b[43mrules\u001b[49m\u001b[38;5;241;43m=\u001b[39;49m\u001b[43mglocal_rules\u001b[49m\u001b[43m,\u001b[49m\u001b[43m \u001b[49m\u001b[43mtrain_set\u001b[49m\u001b[38;5;241;43m=\u001b[39;49m\u001b[43mdata\u001b[49m\u001b[43m,\u001b[49m\u001b[43m \u001b[49m\u001b[43mbatch_size\u001b[49m\u001b[38;5;241;43m=\u001b[39;49m\u001b[38;5;241;43m128\u001b[39;49m\u001b[43m)\u001b[49m\n",
      "File \u001b[1;32mc:\\Users\\dudni\\VS_Code_Projects\\glocalx\\glocalx\\glocalx.py:404\u001b[0m, in \u001b[0;36mGLocalX.fit\u001b[1;34m(self, rules, train_set, batch_size)\u001b[0m\n\u001b[0;32m    401\u001b[0m \u001b[38;5;66;03m# Take the union of all theories (which are {rule} at the start)\u001b[39;00m\n\u001b[0;32m    402\u001b[0m \u001b[38;5;28mself\u001b[39m\u001b[38;5;241m.\u001b[39mfine_boundary \u001b[38;5;241m=\u001b[39m \u001b[38;5;28mset\u001b[39m(reduce(\u001b[38;5;28;01mlambda\u001b[39;00m b, a: a\u001b[38;5;241m.\u001b[39munion(b), \u001b[38;5;28mself\u001b[39m\u001b[38;5;241m.\u001b[39mboundary, \u001b[38;5;28mset\u001b[39m()))\n\u001b[1;32m--> 404\u001b[0m full_name \u001b[38;5;241m=\u001b[39m \u001b[38;5;28mself\u001b[39m\u001b[38;5;241m.\u001b[39mname \u001b[38;5;28;01mif\u001b[39;00m \u001b[38;5;28;43mself\u001b[39;49m\u001b[38;5;241;43m.\u001b[39;49m\u001b[43mname\u001b[49m \u001b[38;5;28;01melse\u001b[39;00m \u001b[38;5;124m'\u001b[39m\u001b[38;5;124mTest run\u001b[39m\u001b[38;5;124m'\u001b[39m\n\u001b[0;32m    405\u001b[0m iteration \u001b[38;5;241m=\u001b[39m \u001b[38;5;241m1\u001b[39m\n\u001b[0;32m    406\u001b[0m merged \u001b[38;5;241m=\u001b[39m \u001b[38;5;28;01mTrue\u001b[39;00m \u001b[38;5;66;03m# to start looping\u001b[39;00m\n",
      "\u001b[1;31mAttributeError\u001b[0m: 'GLocalX' object has no attribute 'name'"
     ]
    }
   ],
   "source": [
    "# Create a GLocalX instance for `black_box`\n",
    "glocalx = GLocalX(model_ai=black_box, name=\"adult_glocal\")\n",
    "# Fit the model, use batch_size=128 for larger datasets\n",
    "glocalx.fit(rules=glocal_rules, train_set=data, batch_size=128)"
   ]
  },
  {
   "cell_type": "code",
   "execution_count": 15,
   "metadata": {},
   "outputs": [
    {
     "data": {
      "text/plain": [
       "[{{3: (-inf, 44.0), 0: (-inf, 53.5), 2: (-inf, 957.5)}-> 0,\n",
       "  {1: (-inf, 12111.0)}-> 0,\n",
       "  {1: (-inf, 5381.0), 16: (0.5, inf)}-> 0,\n",
       "  {60: (-inf, 0.5), 21: (-inf, 0.5)}-> 0},\n",
       " {{1: (-inf, 9228.0), 60: (0.5, inf)}-> 0, {3: (-inf, 39.5)}-> 0}]"
      ]
     },
     "execution_count": 15,
     "metadata": {},
     "output_type": "execute_result"
    }
   ],
   "source": [
    "glocalx.boundary"
   ]
  },
  {
   "cell_type": "code",
   "execution_count": 16,
   "metadata": {},
   "outputs": [
    {
     "data": {
      "text/plain": [
       "{{3: (-inf, 44.0), 0: (-inf, 53.5), 2: (-inf, 957.5)}-> 0,\n",
       " {1: (-inf, 12111.0)}-> 0,\n",
       " {1: (-inf, 5381.0), 16: (0.5, inf)}-> 0,\n",
       " {1: (-inf, 9228.0), 60: (0.5, inf)}-> 0,\n",
       " {60: (-inf, 0.5), 21: (-inf, 0.5)}-> 0,\n",
       " {3: (-inf, 39.5)}-> 0}"
      ]
     },
     "execution_count": 16,
     "metadata": {},
     "output_type": "execute_result"
    }
   ],
   "source": [
    "glocalx.fine_boundary"
   ]
  },
  {
   "cell_type": "code",
   "execution_count": 18,
   "metadata": {},
   "outputs": [
    {
     "data": {
      "text/plain": [
       "[{1: (-inf, 6155.5), 27: (0.5, inf)}-> 0,\n",
       " {3: (-inf, 48.5)}-> 0,\n",
       " {3: (47.5, 52.5), 0: (38.5, inf)}-> 1,\n",
       " {2: (1789.5, inf)}-> 1]"
      ]
     },
     "execution_count": 18,
     "metadata": {},
     "output_type": "execute_result"
    }
   ],
   "source": [
    "# Retrieve global explanations by fidelity percentile\n",
    "alpha = 0.5\n",
    "global_explanations = glocalx.get_fine_boundary_alpha(alpha)\n",
    "global_explanations"
   ]
  },
  {
   "cell_type": "code",
   "execution_count": 29,
   "metadata": {},
   "outputs": [
    {
     "data": {
      "text/plain": [
       "[{}-> 0,\n",
       " {3: (-inf, 48.5)}-> 0,\n",
       " {1: (-inf, 6155.5), 27: (0.5, inf)}-> 0,\n",
       " {}-> 1,\n",
       " {3: (47.5, 52.5), 0: (38.5, inf)}-> 1,\n",
       " {2: (1789.5, inf)}-> 1]"
      ]
     },
     "execution_count": 29,
     "metadata": {},
     "output_type": "execute_result"
    }
   ],
   "source": [
    "# Retrieve exactly `alpha` global explanations\n",
    "alpha = 4\n",
    "global_explanations = glocalx.get_fine_boundary_alpha(alpha)\n",
    "global_explanations"
   ]
  },
  {
   "cell_type": "code",
   "execution_count": 26,
   "metadata": {},
   "outputs": [
    {
     "data": {
      "text/plain": [
       "-0.7702767789885829"
      ]
     },
     "execution_count": 26,
     "metadata": {},
     "output_type": "execute_result"
    }
   ],
   "source": [
    "glocalx.evaluator.bic(glocalx.fine_boundary)"
   ]
  },
  {
   "cell_type": "code",
   "execution_count": null,
   "metadata": {},
   "outputs": [],
   "source": [
    "glocalx.evaluator.binary_fidelity_model(glocalx.fine_boundary)"
   ]
  },
  {
   "cell_type": "code",
   "execution_count": 30,
   "metadata": {},
   "outputs": [
    {
     "data": {
      "text/plain": [
       "{}"
      ]
     },
     "execution_count": 30,
     "metadata": {},
     "output_type": "execute_result"
    }
   ],
   "source": [
    "glocalx.evaluator.perfect_coverages"
   ]
  }
 ],
 "metadata": {
  "kernelspec": {
   "display_name": "venv",
   "language": "python",
   "name": "python3"
  },
  "language_info": {
   "codemirror_mode": {
    "name": "ipython",
    "version": 3
   },
   "file_extension": ".py",
   "mimetype": "text/x-python",
   "name": "python",
   "nbconvert_exporter": "python",
   "pygments_lexer": "ipython3",
   "version": "3.11.5"
  }
 },
 "nbformat": 4,
 "nbformat_minor": 2
}
